{
  "metadata": {
    "language_info": {
      "codemirror_mode": {
        "name": "python",
        "version": 3
      },
      "file_extension": ".py",
      "mimetype": "text/x-python",
      "name": "python",
      "nbconvert_exporter": "python",
      "pygments_lexer": "ipython3",
      "version": "3.8"
    },
    "kernelspec": {
      "name": "python",
      "display_name": "Python (Pyodide)",
      "language": "python"
    }
  },
  "nbformat_minor": 4,
  "nbformat": 4,
  "cells": [
    {
      "cell_type": "code",
      "source": "# Importando archivo para dataframe",
      "metadata": {
        "trusted": true
      },
      "execution_count": 1,
      "outputs": []
    },
    {
      "cell_type": "code",
      "source": "import pandas as pd",
      "metadata": {
        "trusted": true
      },
      "execution_count": 2,
      "outputs": []
    },
    {
      "cell_type": "code",
      "source": "base = pd.read_csv(\"FAOSTAT_data_es_9-21-2022.csv\")",
      "metadata": {
        "trusted": true
      },
      "execution_count": 3,
      "outputs": []
    },
    {
      "cell_type": "code",
      "source": "base",
      "metadata": {
        "trusted": true
      },
      "execution_count": 4,
      "outputs": [
        {
          "execution_count": 4,
          "output_type": "execute_result",
          "data": {
            "text/plain": "    Código Ámbito                Ámbito  Código área      Área  \\\n0              PP  Precios al Productor           95  Honduras   \n1              PP  Precios al Productor           95  Honduras   \n2              PP  Precios al Productor           95  Honduras   \n3              PP  Precios al Productor           95  Honduras   \n4              PP  Precios al Productor           95  Honduras   \n..            ...                   ...          ...       ...   \n305            PP  Precios al Productor           95  Honduras   \n306            PP  Precios al Productor           95  Honduras   \n307            PP  Precios al Productor           95  Honduras   \n308            PP  Precios al Productor           95  Honduras   \n309            PP  Precios al Productor           95  Honduras   \n\n     Código Elemento                                          Elemento  \\\n0               5539  Índice de precios al productor (2014-2016 = 100)   \n1               5539  Índice de precios al productor (2014-2016 = 100)   \n2               5539  Índice de precios al productor (2014-2016 = 100)   \n3               5539  Índice de precios al productor (2014-2016 = 100)   \n4               5539  Índice de precios al productor (2014-2016 = 100)   \n..               ...                                               ...   \n305             5539  Índice de precios al productor (2014-2016 = 100)   \n306             5539  Índice de precios al productor (2014-2016 = 100)   \n307             5539  Índice de precios al productor (2014-2016 = 100)   \n308             5539  Índice de precios al productor (2014-2016 = 100)   \n309             5539  Índice de precios al productor (2014-2016 = 100)   \n\n     Código Producto                  Producto  Código año   Año  \\\n0               2051               Agricultura        1991  1991   \n1               2051               Agricultura        1992  1992   \n2               2051               Agricultura        1993  1993   \n3               2051               Agricultura        1994  1994   \n4               2051               Agricultura        1995  1995   \n..               ...                       ...         ...   ...   \n305             1720  Raíces&Tubérculos, total        2017  2017   \n306             1720  Raíces&Tubérculos, total        2018  2018   \n307             1720  Raíces&Tubérculos, total        2019  2019   \n308             1720  Raíces&Tubérculos, total        2020  2020   \n309             1720  Raíces&Tubérculos, total        2021  2021   \n\n     Código Meses        Meses  Unidad   Valor Símbolo Descripción del Símbolo  \n0            7021  Valor anual     NaN   12.45       I          Valor imputado  \n1            7021  Valor anual     NaN   13.02       I          Valor imputado  \n2            7021  Valor anual     NaN   16.46       I          Valor imputado  \n3            7021  Valor anual     NaN   27.36       I          Valor imputado  \n4            7021  Valor anual     NaN   28.65       I          Valor imputado  \n..            ...          ...     ...     ...     ...                     ...  \n305          7021  Valor anual     NaN  100.89       I          Valor imputado  \n306          7021  Valor anual     NaN   93.52       I          Valor imputado  \n307          7021  Valor anual     NaN   92.20       I          Valor imputado  \n308          7021  Valor anual     NaN   91.04       I          Valor imputado  \n309          7021  Valor anual     NaN   89.53       I          Valor imputado  \n\n[310 rows x 16 columns]",
            "text/html": "<div>\n<style scoped>\n    .dataframe tbody tr th:only-of-type {\n        vertical-align: middle;\n    }\n\n    .dataframe tbody tr th {\n        vertical-align: top;\n    }\n\n    .dataframe thead th {\n        text-align: right;\n    }\n</style>\n<table border=\"1\" class=\"dataframe\">\n  <thead>\n    <tr style=\"text-align: right;\">\n      <th></th>\n      <th>Código Ámbito</th>\n      <th>Ámbito</th>\n      <th>Código área</th>\n      <th>Área</th>\n      <th>Código Elemento</th>\n      <th>Elemento</th>\n      <th>Código Producto</th>\n      <th>Producto</th>\n      <th>Código año</th>\n      <th>Año</th>\n      <th>Código Meses</th>\n      <th>Meses</th>\n      <th>Unidad</th>\n      <th>Valor</th>\n      <th>Símbolo</th>\n      <th>Descripción del Símbolo</th>\n    </tr>\n  </thead>\n  <tbody>\n    <tr>\n      <th>0</th>\n      <td>PP</td>\n      <td>Precios al Productor</td>\n      <td>95</td>\n      <td>Honduras</td>\n      <td>5539</td>\n      <td>Índice de precios al productor (2014-2016 = 100)</td>\n      <td>2051</td>\n      <td>Agricultura</td>\n      <td>1991</td>\n      <td>1991</td>\n      <td>7021</td>\n      <td>Valor anual</td>\n      <td>NaN</td>\n      <td>12.45</td>\n      <td>I</td>\n      <td>Valor imputado</td>\n    </tr>\n    <tr>\n      <th>1</th>\n      <td>PP</td>\n      <td>Precios al Productor</td>\n      <td>95</td>\n      <td>Honduras</td>\n      <td>5539</td>\n      <td>Índice de precios al productor (2014-2016 = 100)</td>\n      <td>2051</td>\n      <td>Agricultura</td>\n      <td>1992</td>\n      <td>1992</td>\n      <td>7021</td>\n      <td>Valor anual</td>\n      <td>NaN</td>\n      <td>13.02</td>\n      <td>I</td>\n      <td>Valor imputado</td>\n    </tr>\n    <tr>\n      <th>2</th>\n      <td>PP</td>\n      <td>Precios al Productor</td>\n      <td>95</td>\n      <td>Honduras</td>\n      <td>5539</td>\n      <td>Índice de precios al productor (2014-2016 = 100)</td>\n      <td>2051</td>\n      <td>Agricultura</td>\n      <td>1993</td>\n      <td>1993</td>\n      <td>7021</td>\n      <td>Valor anual</td>\n      <td>NaN</td>\n      <td>16.46</td>\n      <td>I</td>\n      <td>Valor imputado</td>\n    </tr>\n    <tr>\n      <th>3</th>\n      <td>PP</td>\n      <td>Precios al Productor</td>\n      <td>95</td>\n      <td>Honduras</td>\n      <td>5539</td>\n      <td>Índice de precios al productor (2014-2016 = 100)</td>\n      <td>2051</td>\n      <td>Agricultura</td>\n      <td>1994</td>\n      <td>1994</td>\n      <td>7021</td>\n      <td>Valor anual</td>\n      <td>NaN</td>\n      <td>27.36</td>\n      <td>I</td>\n      <td>Valor imputado</td>\n    </tr>\n    <tr>\n      <th>4</th>\n      <td>PP</td>\n      <td>Precios al Productor</td>\n      <td>95</td>\n      <td>Honduras</td>\n      <td>5539</td>\n      <td>Índice de precios al productor (2014-2016 = 100)</td>\n      <td>2051</td>\n      <td>Agricultura</td>\n      <td>1995</td>\n      <td>1995</td>\n      <td>7021</td>\n      <td>Valor anual</td>\n      <td>NaN</td>\n      <td>28.65</td>\n      <td>I</td>\n      <td>Valor imputado</td>\n    </tr>\n    <tr>\n      <th>...</th>\n      <td>...</td>\n      <td>...</td>\n      <td>...</td>\n      <td>...</td>\n      <td>...</td>\n      <td>...</td>\n      <td>...</td>\n      <td>...</td>\n      <td>...</td>\n      <td>...</td>\n      <td>...</td>\n      <td>...</td>\n      <td>...</td>\n      <td>...</td>\n      <td>...</td>\n      <td>...</td>\n    </tr>\n    <tr>\n      <th>305</th>\n      <td>PP</td>\n      <td>Precios al Productor</td>\n      <td>95</td>\n      <td>Honduras</td>\n      <td>5539</td>\n      <td>Índice de precios al productor (2014-2016 = 100)</td>\n      <td>1720</td>\n      <td>Raíces&amp;Tubérculos, total</td>\n      <td>2017</td>\n      <td>2017</td>\n      <td>7021</td>\n      <td>Valor anual</td>\n      <td>NaN</td>\n      <td>100.89</td>\n      <td>I</td>\n      <td>Valor imputado</td>\n    </tr>\n    <tr>\n      <th>306</th>\n      <td>PP</td>\n      <td>Precios al Productor</td>\n      <td>95</td>\n      <td>Honduras</td>\n      <td>5539</td>\n      <td>Índice de precios al productor (2014-2016 = 100)</td>\n      <td>1720</td>\n      <td>Raíces&amp;Tubérculos, total</td>\n      <td>2018</td>\n      <td>2018</td>\n      <td>7021</td>\n      <td>Valor anual</td>\n      <td>NaN</td>\n      <td>93.52</td>\n      <td>I</td>\n      <td>Valor imputado</td>\n    </tr>\n    <tr>\n      <th>307</th>\n      <td>PP</td>\n      <td>Precios al Productor</td>\n      <td>95</td>\n      <td>Honduras</td>\n      <td>5539</td>\n      <td>Índice de precios al productor (2014-2016 = 100)</td>\n      <td>1720</td>\n      <td>Raíces&amp;Tubérculos, total</td>\n      <td>2019</td>\n      <td>2019</td>\n      <td>7021</td>\n      <td>Valor anual</td>\n      <td>NaN</td>\n      <td>92.20</td>\n      <td>I</td>\n      <td>Valor imputado</td>\n    </tr>\n    <tr>\n      <th>308</th>\n      <td>PP</td>\n      <td>Precios al Productor</td>\n      <td>95</td>\n      <td>Honduras</td>\n      <td>5539</td>\n      <td>Índice de precios al productor (2014-2016 = 100)</td>\n      <td>1720</td>\n      <td>Raíces&amp;Tubérculos, total</td>\n      <td>2020</td>\n      <td>2020</td>\n      <td>7021</td>\n      <td>Valor anual</td>\n      <td>NaN</td>\n      <td>91.04</td>\n      <td>I</td>\n      <td>Valor imputado</td>\n    </tr>\n    <tr>\n      <th>309</th>\n      <td>PP</td>\n      <td>Precios al Productor</td>\n      <td>95</td>\n      <td>Honduras</td>\n      <td>5539</td>\n      <td>Índice de precios al productor (2014-2016 = 100)</td>\n      <td>1720</td>\n      <td>Raíces&amp;Tubérculos, total</td>\n      <td>2021</td>\n      <td>2021</td>\n      <td>7021</td>\n      <td>Valor anual</td>\n      <td>NaN</td>\n      <td>89.53</td>\n      <td>I</td>\n      <td>Valor imputado</td>\n    </tr>\n  </tbody>\n</table>\n<p>310 rows × 16 columns</p>\n</div>"
          },
          "metadata": {}
        }
      ]
    },
    {
      "cell_type": "code",
      "source": "",
      "metadata": {},
      "execution_count": null,
      "outputs": []
    }
  ]
}